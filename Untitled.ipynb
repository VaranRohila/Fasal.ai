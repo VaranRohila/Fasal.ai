{
 "cells": [
  {
   "cell_type": "code",
   "execution_count": 5,
   "metadata": {},
   "outputs": [],
   "source": [
    "import pandas as pd\n",
    "import numpy as np"
   ]
  },
  {
   "cell_type": "code",
   "execution_count": 35,
   "metadata": {},
   "outputs": [
    {
     "data": {
      "text/plain": [
       "60"
      ]
     },
     "execution_count": 35,
     "metadata": {},
     "output_type": "execute_result"
    }
   ],
   "source": [
    "msp = pd.read_csv('seed_prices.csv')\n",
    "msp.set_index('Type', inplace = True)\n",
    "msp.head()\n",
    "msp.loc['Rice', 'costperkg']"
   ]
  },
  {
   "cell_type": "code",
   "execution_count": 22,
   "metadata": {},
   "outputs": [
    {
     "data": {
      "text/plain": [
       "199.3087467124581"
      ]
     },
     "execution_count": 22,
     "metadata": {},
     "output_type": "execute_result"
    }
   ],
   "source": [
    "pH.iloc[0, 1]"
   ]
  },
  {
   "cell_type": "code",
   "execution_count": 13,
   "metadata": {},
   "outputs": [],
   "source": [
    "pH.set_index('district_name', inplace= True)"
   ]
  },
  {
   "cell_type": "code",
   "execution_count": 7,
   "metadata": {},
   "outputs": [
    {
     "data": {
      "text/plain": [
       "107    8.1\n",
       "Name: pH, dtype: float64"
      ]
     },
     "execution_count": 7,
     "metadata": {},
     "output_type": "execute_result"
    }
   ],
   "source": [
    "pH[pH['district_name'] == 'Kannauj']['pH']"
   ]
  },
  {
   "cell_type": "code",
   "execution_count": 14,
   "metadata": {},
   "outputs": [
    {
     "data": {
      "text/plain": [
       "8.1"
      ]
     },
     "execution_count": 14,
     "metadata": {},
     "output_type": "execute_result"
    }
   ],
   "source": [
    "pH.loc['Kannauj', 'pH']"
   ]
  },
  {
   "cell_type": "code",
   "execution_count": 15,
   "metadata": {},
   "outputs": [],
   "source": [
    "pH.to_csv('pH.csv', index = True)"
   ]
  },
  {
   "cell_type": "code",
   "execution_count": 1,
   "metadata": {},
   "outputs": [],
   "source": [
    "import urllib, json\n",
    "\n",
    "def get_temp(city):  \n",
    "    url = \"http://api.openweathermap.org/data/2.5/forecast?q=Jaipur,in&appid=46ce36deffa263a3252df9b5c390cecb\"\n",
    "    response = urllib.request.Request(url)\n",
    "    opener = urllib.request.build_opener()\n",
    "    f = opener.open(response)\n",
    "    json1 = json.loads(f.read())\n",
    "    temp = 0\n",
    "    temp_c = []\n",
    "    for i in range(40):\n",
    "        temp += (json1['list'][i]['main']['temp_min']+json1['list'][i]['main']['temp_max'])/2\n",
    "        if ((i+1)%8)==0 and i>0:\n",
    "            temp /= 8\n",
    "            temp_c.append(temp-273.15)\n",
    "            temp = 0\n",
    "    return temp_c"
   ]
  },
  {
   "cell_type": "code",
   "execution_count": 4,
   "metadata": {},
   "outputs": [
    {
     "name": "stdout",
     "output_type": "stream",
     "text": [
      "Collecting urllib\n",
      "\u001b[33m  Retrying (Retry(total=4, connect=None, read=None, redirect=None, status=None)) after connection broken by 'ConnectTimeoutError(<pip._vendor.urllib3.connection.VerifiedHTTPSConnection object at 0x7efbf06195c0>, 'Connection to 172.16.2.30 timed out. (connect timeout=15)')': /simple/urllib/\u001b[0m\n",
      "\u001b[33m  Retrying (Retry(total=3, connect=None, read=None, redirect=None, status=None)) after connection broken by 'ConnectTimeoutError(<pip._vendor.urllib3.connection.VerifiedHTTPSConnection object at 0x7efbf06196a0>, 'Connection to 172.16.2.30 timed out. (connect timeout=15)')': /simple/urllib/\u001b[0m\n",
      "\u001b[33m  Retrying (Retry(total=2, connect=None, read=None, redirect=None, status=None)) after connection broken by 'ConnectTimeoutError(<pip._vendor.urllib3.connection.VerifiedHTTPSConnection object at 0x7efbf06192b0>, 'Connection to 172.16.2.30 timed out. (connect timeout=15)')': /simple/urllib/\u001b[0m\n",
      "\u001b[33m  Retrying (Retry(total=1, connect=None, read=None, redirect=None, status=None)) after connection broken by 'ConnectTimeoutError(<pip._vendor.urllib3.connection.VerifiedHTTPSConnection object at 0x7efbf0619358>, 'Connection to 172.16.2.30 timed out. (connect timeout=15)')': /simple/urllib/\u001b[0m\n",
      "\u001b[33m  Retrying (Retry(total=0, connect=None, read=None, redirect=None, status=None)) after connection broken by 'ConnectTimeoutError(<pip._vendor.urllib3.connection.VerifiedHTTPSConnection object at 0x7efbf06192e8>, 'Connection to 172.16.2.30 timed out. (connect timeout=15)')': /simple/urllib/\u001b[0m\n",
      "\u001b[31m  Could not find a version that satisfies the requirement urllib (from versions: )\u001b[0m\n",
      "\u001b[31mNo matching distribution found for urllib\u001b[0m\n"
     ]
    }
   ],
   "source": [
    "!pip install urllib"
   ]
  },
  {
   "cell_type": "code",
   "execution_count": 2,
   "metadata": {},
   "outputs": [
    {
     "ename": "AttributeError",
     "evalue": "module 'urllib' has no attribute 'request'",
     "output_type": "error",
     "traceback": [
      "\u001b[0;31m---------------------------------------------------------------------------\u001b[0m",
      "\u001b[0;31mAttributeError\u001b[0m                            Traceback (most recent call last)",
      "\u001b[0;32m<ipython-input-2-5007a06dfbbd>\u001b[0m in \u001b[0;36m<module>\u001b[0;34m()\u001b[0m\n\u001b[0;32m----> 1\u001b[0;31m \u001b[0mget_temp\u001b[0m\u001b[0;34m(\u001b[0m\u001b[0;34m'Jaipur'\u001b[0m\u001b[0;34m)\u001b[0m\u001b[0;34m\u001b[0m\u001b[0m\n\u001b[0m",
      "\u001b[0;32m<ipython-input-1-d90b7ff41fc8>\u001b[0m in \u001b[0;36mget_temp\u001b[0;34m(city)\u001b[0m\n\u001b[1;32m      3\u001b[0m \u001b[0;32mdef\u001b[0m \u001b[0mget_temp\u001b[0m\u001b[0;34m(\u001b[0m\u001b[0mcity\u001b[0m\u001b[0;34m)\u001b[0m\u001b[0;34m:\u001b[0m\u001b[0;34m\u001b[0m\u001b[0m\n\u001b[1;32m      4\u001b[0m     \u001b[0murl\u001b[0m \u001b[0;34m=\u001b[0m \u001b[0;34m\"http://api.openweathermap.org/data/2.5/forecast?q=Jaipur,in&appid=46ce36deffa263a3252df9b5c390cecb\"\u001b[0m\u001b[0;34m\u001b[0m\u001b[0m\n\u001b[0;32m----> 5\u001b[0;31m     \u001b[0mresponse\u001b[0m \u001b[0;34m=\u001b[0m \u001b[0murllib\u001b[0m\u001b[0;34m.\u001b[0m\u001b[0mrequest\u001b[0m\u001b[0;34m.\u001b[0m\u001b[0mRequest\u001b[0m\u001b[0;34m(\u001b[0m\u001b[0murl\u001b[0m\u001b[0;34m)\u001b[0m\u001b[0;34m\u001b[0m\u001b[0m\n\u001b[0m\u001b[1;32m      6\u001b[0m     \u001b[0mopener\u001b[0m \u001b[0;34m=\u001b[0m \u001b[0murllib\u001b[0m\u001b[0;34m.\u001b[0m\u001b[0mrequest\u001b[0m\u001b[0;34m.\u001b[0m\u001b[0mbuild_opener\u001b[0m\u001b[0;34m(\u001b[0m\u001b[0;34m)\u001b[0m\u001b[0;34m\u001b[0m\u001b[0m\n\u001b[1;32m      7\u001b[0m     \u001b[0mf\u001b[0m \u001b[0;34m=\u001b[0m \u001b[0mopener\u001b[0m\u001b[0;34m.\u001b[0m\u001b[0mopen\u001b[0m\u001b[0;34m(\u001b[0m\u001b[0mresponse\u001b[0m\u001b[0;34m)\u001b[0m\u001b[0;34m\u001b[0m\u001b[0m\n",
      "\u001b[0;31mAttributeError\u001b[0m: module 'urllib' has no attribute 'request'"
     ]
    }
   ],
   "source": [
    "get_temp('Jaipur')"
   ]
  },
  {
   "cell_type": "code",
   "execution_count": null,
   "metadata": {},
   "outputs": [],
   "source": [
    "!http://api.openweathermap.org/data/2.5/forecast?q=Jaipur,in&appid=46ce36deffa263a3252df9b5c390cecb"
   ]
  },
  {
   "cell_type": "code",
   "execution_count": 31,
   "metadata": {},
   "outputs": [],
   "source": [
    "from sklearn.neighbors import KNeighborsClassifier\n",
    "model = KNeighborsClassifier(n_neighbors=1)"
   ]
  },
  {
   "cell_type": "code",
   "execution_count": 32,
   "metadata": {},
   "outputs": [
    {
     "data": {
      "text/html": [
       "<div>\n",
       "<style scoped>\n",
       "    .dataframe tbody tr th:only-of-type {\n",
       "        vertical-align: middle;\n",
       "    }\n",
       "\n",
       "    .dataframe tbody tr th {\n",
       "        vertical-align: top;\n",
       "    }\n",
       "\n",
       "    .dataframe thead th {\n",
       "        text-align: right;\n",
       "    }\n",
       "</style>\n",
       "<table border=\"1\" class=\"dataframe\">\n",
       "  <thead>\n",
       "    <tr style=\"text-align: right;\">\n",
       "      <th></th>\n",
       "      <th>ph</th>\n",
       "      <th>rainfall</th>\n",
       "      <th>temp</th>\n",
       "      <th>crop</th>\n",
       "    </tr>\n",
       "  </thead>\n",
       "  <tbody>\n",
       "    <tr>\n",
       "      <th>0</th>\n",
       "      <td>7.1</td>\n",
       "      <td>127</td>\n",
       "      <td>22</td>\n",
       "      <td>sugarcane</td>\n",
       "    </tr>\n",
       "    <tr>\n",
       "      <th>1</th>\n",
       "      <td>6.3</td>\n",
       "      <td>143</td>\n",
       "      <td>26</td>\n",
       "      <td>sugarcane</td>\n",
       "    </tr>\n",
       "    <tr>\n",
       "      <th>2</th>\n",
       "      <td>6.9</td>\n",
       "      <td>58</td>\n",
       "      <td>28</td>\n",
       "      <td>sorghum</td>\n",
       "    </tr>\n",
       "    <tr>\n",
       "      <th>3</th>\n",
       "      <td>6.7</td>\n",
       "      <td>55</td>\n",
       "      <td>23</td>\n",
       "      <td>wheat</td>\n",
       "    </tr>\n",
       "    <tr>\n",
       "      <th>4</th>\n",
       "      <td>6.7</td>\n",
       "      <td>191</td>\n",
       "      <td>24</td>\n",
       "      <td>rice</td>\n",
       "    </tr>\n",
       "  </tbody>\n",
       "</table>\n",
       "</div>"
      ],
      "text/plain": [
       "    ph  rainfall  temp       crop\n",
       "0  7.1       127    22  sugarcane\n",
       "1  6.3       143    26  sugarcane\n",
       "2  6.9        58    28    sorghum\n",
       "3  6.7        55    23      wheat\n",
       "4  6.7       191    24       rice"
      ]
     },
     "execution_count": 32,
     "metadata": {},
     "output_type": "execute_result"
    }
   ],
   "source": [
    "data = pd.read_csv('crop_data.csv')\n",
    "data.head(5)"
   ]
  },
  {
   "cell_type": "code",
   "execution_count": 33,
   "metadata": {},
   "outputs": [],
   "source": [
    "X = data.drop('crop', axis = 1)\n",
    "y = data['crop']"
   ]
  },
  {
   "cell_type": "code",
   "execution_count": 35,
   "metadata": {},
   "outputs": [
    {
     "name": "stdout",
     "output_type": "stream",
     "text": [
      "[4 4 3 5 2 5 4 5 4 5 0 5 1 5 0 0 0 2 1 5 5 2 3 4 2 2 2 1 0 5 3 2 1 0 0 3 2\n",
      " 2 3 1 1 3 2 2 3 2 1 1 4 5 0 0 2 0 2 5 4 4 5 5 1 2 3 0 1 0 2 1 3 5 5 2 2 1\n",
      " 4 0 2 0 4 0 3 1 3 3 1 1 2 4 5 1 0 0 2 1 2 0 0 0 5 0 2 1 5 4 1 3 4 0 2 1 0\n",
      " 3 5 4 4 2 1 4 3 0 3 3 3 4 4 5 0 0 1 3 3 3 3 2 1 0 2 4 0 5 1 4 3 3 4 2 0 0\n",
      " 4 4 3 4 3 5 5 0 5 5 1 5 3 2 0 5 1 2 5 5 0 2 4 1 3 3 2 0 2 0 1 4 0 0 2 0 0\n",
      " 3 1 4 2 3 1 3 3 5 0 4 1 0 3 5 2 2 5 4 3 4 4 0 2 1 3 1 3 5 5 1 0 0 5 2 3 1\n",
      " 5 0 1 1 4 5 3 0 5 1 5 1 4 4 1 0 1 0 5 2 2 2 1 4 4 3 5 3 5 5 3 0 5 3 3 0 4\n",
      " 5 0 0 2 3 2 2 4 3 3 3 0 1 3 4 3 0 3 5 4 4 2 2 3 4 1 5 3 4 0 5 1 5 1 0 5 0\n",
      " 4 4 2 2 1 5 0 2 0 1 1 0 5 3 0 3 2 1 3 3 5 0 3 1 2 0 3 5 4 0 1 2 0 4 1 2 0\n",
      " 4 0 4 1 1 5 3 4 4 2 5 3 5 5 2 4 5 2 1 3 2 3 5 5 5 4 1 3 0 4 5 4 4 1 4 0 3\n",
      " 4 1 2 2 0 1 3 1 5 2 1 0 1 3 0 5 4 0 3 2 1 4 1 3 5 4 2 4 1 2 3 0 1 2 1 2 3\n",
      " 5 2 4 2 4 0 4 1 3 2 0 1 0 4 0 4 2 4 4 5 3 3 1 3 2 4 3 1 1 1 3 1 4 2 1 3 1\n",
      " 1 0 3 3 5 0 4 1 2 4 4 4 0 4 0 4 2 5 4 5 3 1 0 2 2 5 0 3 3 4 3 4 4 2 4 0 2\n",
      " 5 0 0 3 2 1 1 1 1 4 5 5 5 3 3 2 2 4 5 0 2 3 2 1 1 0 5 5 2 5 3 3 5 5 0 2 3\n",
      " 5 4 4 2 5 1 1 2 0 2 5 2 4 2 2 2 4 4 2 3 0 1 3 1 5 3 0 3 4 0 3 5 0 3 0 1 1\n",
      " 0 4 0 4 3 2 4 3 0 2 0 5 5 5 4 1 1 5 5 2 4 5 1 1 2 5 2 1 1 5 3 2 4 5 1 4 4\n",
      " 5 1 4 5 5 2 4 5]\n"
     ]
    }
   ],
   "source": [
    "from sklearn import preprocessing\n",
    "le = preprocessing.LabelEncoder()\n",
    "y=le.fit_transform(y)\n",
    "print(y)"
   ]
  },
  {
   "cell_type": "code",
   "execution_count": 36,
   "metadata": {},
   "outputs": [
    {
     "data": {
      "text/plain": [
       "KNeighborsClassifier(algorithm='auto', leaf_size=30, metric='minkowski',\n",
       "           metric_params=None, n_jobs=None, n_neighbors=1, p=2,\n",
       "           weights='uniform')"
      ]
     },
     "execution_count": 36,
     "metadata": {},
     "output_type": "execute_result"
    }
   ],
   "source": [
    "model.fit(X,y)"
   ]
  },
  {
   "cell_type": "code",
   "execution_count": 39,
   "metadata": {},
   "outputs": [
    {
     "data": {
      "text/plain": [
       "array([5])"
      ]
     },
     "execution_count": 39,
     "metadata": {},
     "output_type": "execute_result"
    }
   ],
   "source": [
    "model.predict([[7.5,60,22]])"
   ]
  },
  {
   "cell_type": "code",
   "execution_count": 40,
   "metadata": {},
   "outputs": [],
   "source": [
    "from sklearn.externals import joblib"
   ]
  },
  {
   "cell_type": "code",
   "execution_count": 41,
   "metadata": {},
   "outputs": [
    {
     "data": {
      "text/plain": [
       "['trained-model.pkl']"
      ]
     },
     "execution_count": 41,
     "metadata": {},
     "output_type": "execute_result"
    }
   ],
   "source": [
    "joblib.dump(model, \"trained-model.pkl\")"
   ]
  },
  {
   "cell_type": "code",
   "execution_count": 47,
   "metadata": {},
   "outputs": [
    {
     "name": "stderr",
     "output_type": "stream",
     "text": [
      "Exception ignored in: <bound method DMatrix.__del__ of <xgboost.core.DMatrix object at 0x7efbaf7b9198>>\n",
      "Traceback (most recent call last):\n",
      "  File \"/home/ashutosh/anaconda3/lib/python3.6/site-packages/xgboost/core.py\", line 482, in __del__\n",
      "    if self.handle is not None:\n",
      "AttributeError: 'DMatrix' object has no attribute 'handle'\n",
      "Exception ignored in: <bound method DMatrix.__del__ of <xgboost.core.DMatrix object at 0x7efbaf77f160>>\n",
      "Traceback (most recent call last):\n",
      "  File \"/home/ashutosh/anaconda3/lib/python3.6/site-packages/xgboost/core.py\", line 482, in __del__\n",
      "    if self.handle is not None:\n",
      "AttributeError: 'DMatrix' object has no attribute 'handle'\n"
     ]
    }
   ],
   "source": [
    "data = {'ph': [7.5], 'rainfall': [60], 'temp': [22]}\n",
    "o = pd.DataFrame(data = data)"
   ]
  },
  {
   "cell_type": "code",
   "execution_count": 48,
   "metadata": {},
   "outputs": [
    {
     "name": "stderr",
     "output_type": "stream",
     "text": [
      "/home/ashutosh/anaconda3/lib/python3.6/site-packages/sklearn/base.py:251: UserWarning: Trying to unpickle estimator LabelEncoder from version 0.20.2 when using version 0.20.0. This might lead to breaking code or invalid results. Use at your own risk.\n",
      "  UserWarning)\n"
     ]
    },
    {
     "data": {
      "text/plain": [
       "array([0])"
      ]
     },
     "execution_count": 48,
     "metadata": {},
     "output_type": "execute_result"
    }
   ],
   "source": [
    "_ =  joblib.load(\"xg_new_clf.pkl\")\n",
    "_.predict(o)"
   ]
  },
  {
   "cell_type": "code",
   "execution_count": null,
   "metadata": {},
   "outputs": [],
   "source": []
  }
 ],
 "metadata": {
  "kernelspec": {
   "display_name": "Python 3",
   "language": "python",
   "name": "python3"
  },
  "language_info": {
   "codemirror_mode": {
    "name": "ipython",
    "version": 3
   },
   "file_extension": ".py",
   "mimetype": "text/x-python",
   "name": "python",
   "nbconvert_exporter": "python",
   "pygments_lexer": "ipython3",
   "version": "3.6.5"
  }
 },
 "nbformat": 4,
 "nbformat_minor": 2
}
